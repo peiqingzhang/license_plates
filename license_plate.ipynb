{
 "cells": [
  {
   "cell_type": "markdown",
   "metadata": {},
   "source": [
    "# Front End"
   ]
  },
  {
   "cell_type": "code",
   "execution_count": null,
   "metadata": {},
   "outputs": [],
   "source": []
  },
  {
   "cell_type": "markdown",
   "metadata": {},
   "source": [
    "# Back End"
   ]
  },
  {
   "cell_type": "code",
   "execution_count": 84,
   "metadata": {},
   "outputs": [],
   "source": [
    "from PIL import Image\n",
    "from inference_sdk import InferenceHTTPClient"
   ]
  },
  {
   "cell_type": "code",
   "execution_count": 85,
   "metadata": {},
   "outputs": [],
   "source": [
    "image_to_test = \"base_station.jpg\""
   ]
  },
  {
   "cell_type": "code",
   "execution_count": 86,
   "metadata": {},
   "outputs": [],
   "source": [
    "image = Image.open(image_to_test)"
   ]
  },
  {
   "cell_type": "code",
   "execution_count": 87,
   "metadata": {},
   "outputs": [],
   "source": [
    "# initialize the client\n",
    "CLIENT = InferenceHTTPClient(\n",
    "    api_url=\"https://detect.roboflow.com\",\n",
    "    api_key=\"<api_key>\"\n",
    ")\n",
    "\n",
    "# infer on a local image\n",
    "result = CLIENT.infer(image_to_test, model_id=\"<model_id>\")"
   ]
  },
  {
   "cell_type": "code",
   "execution_count": 88,
   "metadata": {},
   "outputs": [
    {
     "data": {
      "text/plain": [
       "{'inference_id': '30105660-9aec-473b-9669-8b327036eb67',\n",
       " 'time': 0.03940387000056944,\n",
       " 'image': {'width': 592, 'height': 481},\n",
       " 'predictions': [{'x': 458.5,\n",
       "   'y': 114.5,\n",
       "   'width': 163.0,\n",
       "   'height': 35.0,\n",
       "   'confidence': 0.8475237488746643,\n",
       "   'class': 'car-plates',\n",
       "   'class_id': 1,\n",
       "   'detection_id': '9e114176-f329-47b9-bad3-0657cef7ae93'},\n",
       "  {'x': 217.5,\n",
       "   'y': 187.0,\n",
       "   'width': 199.0,\n",
       "   'height': 40.0,\n",
       "   'confidence': 0.8441112041473389,\n",
       "   'class': 'car-plates',\n",
       "   'class_id': 1,\n",
       "   'detection_id': '8b9acf30-ad00-4b32-85da-c59c5bae9fbd'},\n",
       "  {'x': 193.5,\n",
       "   'y': 365.5,\n",
       "   'width': 45.0,\n",
       "   'height': 169.0,\n",
       "   'confidence': 0.8401526212692261,\n",
       "   'class': 'car-plates',\n",
       "   'class_id': 1,\n",
       "   'detection_id': 'daca8deb-486d-4231-a046-af16c745f212'},\n",
       "  {'x': 195.0,\n",
       "   'y': 435.0,\n",
       "   'width': 28.0,\n",
       "   'height': 18.0,\n",
       "   'confidence': 0.8263109922409058,\n",
       "   'class': 'N',\n",
       "   'class_id': 0,\n",
       "   'detection_id': '657d215f-aaf9-4749-b39f-9dd55edc7518'},\n",
       "  {'x': 465.0,\n",
       "   'y': 388.5,\n",
       "   'width': 42.0,\n",
       "   'height': 23.0,\n",
       "   'confidence': 0.8232406973838806,\n",
       "   'class': 'N',\n",
       "   'class_id': 0,\n",
       "   'detection_id': '8a5c6352-414b-4070-b92e-3d6bbbd825e7'},\n",
       "  {'x': 467.0,\n",
       "   'y': 297.0,\n",
       "   'width': 50.0,\n",
       "   'height': 214.0,\n",
       "   'confidence': 0.8097952008247375,\n",
       "   'class': 'car-plates',\n",
       "   'class_id': 1,\n",
       "   'detection_id': 'f7a75902-8cd9-4367-9e2c-f221fa51be8d'},\n",
       "  {'x': 134.0,\n",
       "   'y': 186.0,\n",
       "   'width': 20.0,\n",
       "   'height': 36.0,\n",
       "   'confidence': 0.80275958776474,\n",
       "   'class': 'N',\n",
       "   'class_id': 0,\n",
       "   'detection_id': 'ce11e12b-c6c1-4dff-b05d-4f44feed9b80'},\n",
       "  {'x': 386.5,\n",
       "   'y': 114.5,\n",
       "   'width': 17.0,\n",
       "   'height': 31.0,\n",
       "   'confidence': 0.7944789528846741,\n",
       "   'class': 'N',\n",
       "   'class_id': 0,\n",
       "   'detection_id': 'a19da555-80a8-4291-b377-61c49753044b'},\n",
       "  {'x': 309.0,\n",
       "   'y': 375.5,\n",
       "   'width': 106.0,\n",
       "   'height': 45.0,\n",
       "   'confidence': 0.7675461769104004,\n",
       "   'class': 'car-plates',\n",
       "   'class_id': 1,\n",
       "   'detection_id': 'f3d33869-a3a2-4109-a57e-4fa7a2aa0646'}]}"
      ]
     },
     "execution_count": 88,
     "metadata": {},
     "output_type": "execute_result"
    }
   ],
   "source": [
    "result"
   ]
  },
  {
   "cell_type": "code",
   "execution_count": 89,
   "metadata": {},
   "outputs": [],
   "source": [
    "number_of_plates = 0\n",
    "\n",
    "for item in result['predictions']:\n",
    "\n",
    "    if item['class_id'] == 1:\n",
    "# Count the total number of plates in the image\n",
    "        number_of_plates = number_of_plates + 1\n",
    "# Setting the points for cropped image\n",
    "        left = item['x'] - item['width']/2 \n",
    "        top = item['y'] - item['height']/2 \n",
    "        right = item['x'] + item['width']/2 \n",
    "        bottom = item['y'] + item['height']/2\n",
    " \n",
    "# Cropped image of above dimension\n",
    "# (It will not change original image)\n",
    "        im = image.crop((left, top, right, bottom))\n",
    "# If the plate image is too small resize it\n",
    "        if min(im.size) < 60:\n",
    "                if im.size[0] == min(im.size):\n",
    "                        new_im = im.resize((50, int(im.size[1]*60/im.size[0] + 1)))\n",
    "                else:\n",
    "                        new_im = im.resize((int(im.size[0]*60/im.size[1] + 1), 60))\n",
    "                new_im.save('to_ocr_' + str(number_of_plates) + '.jpg')\n",
    "        else:\n",
    "                im.save('to_ocr_' + str(number_of_plates) + '.jpg')\n",
    "       \n",
    " \n",
    "# Shows the image in image viewer\n",
    "        im.show()"
   ]
  },
  {
   "cell_type": "code",
   "execution_count": null,
   "metadata": {},
   "outputs": [],
   "source": [
    "# Try pytesseract - not stable\n",
    "#import pytesseract\n",
    "#text = []\n",
    "\n",
    "#while number_of_plates > 0:\n",
    "#    text.append(pytesseract.image_to_string('to_ocr_' + str(number_of_plates) +'.jpg'))\n",
    "#    number_of_plates = number_of_plates - 1\n"
   ]
  },
  {
   "cell_type": "code",
   "execution_count": null,
   "metadata": {},
   "outputs": [],
   "source": [
    "# text"
   ]
  },
  {
   "cell_type": "code",
   "execution_count": 90,
   "metadata": {},
   "outputs": [],
   "source": [
    "from azure.cognitiveservices.vision.computervision import ComputerVisionClient\n",
    "from azure.cognitiveservices.vision.computervision.models import VisualFeatureTypes\n",
    "from msrest.authentication import CognitiveServicesCredentials\n",
    "from azure.cognitiveservices.vision.computervision.models import OperationStatusCodes\n",
    "import time"
   ]
  },
  {
   "cell_type": "code",
   "execution_count": 91,
   "metadata": {},
   "outputs": [],
   "source": [
    "region = \"<region>\"\n",
    "key = \"<access key>\"\n",
    "numberOfCharsInOperationId = 36\n",
    "\n",
    "\n",
    "credentials = CognitiveServicesCredentials(key)\n",
    "client = ComputerVisionClient(\n",
    "    endpoint=\"https://<myendpoint>.cognitiveservices.azure.com/\",\n",
    "    credentials=credentials\n",
    ")"
   ]
  },
  {
   "cell_type": "code",
   "execution_count": 92,
   "metadata": {},
   "outputs": [
    {
     "name": "stdout",
     "output_type": "stream",
     "text": [
      "ZM 78528\n",
      "LY 66972\n",
      "BP147398\n",
      "PP 90693\n",
      "EB 74699\n"
     ]
    }
   ],
   "source": [
    "license_plates = []\n",
    "while number_of_plates > 0:\n",
    "    file_name = 'to_ocr_' + str(number_of_plates) + '.jpg'\n",
    "    read_image = open(file_name, \"rb\")\n",
    "    rawHttpResponse = client.read_in_stream(read_image, language=\"en\", raw=True)\n",
    "    operationLocation = rawHttpResponse.headers[\"Operation-Location\"]\n",
    "    idLocation = len(operationLocation) - numberOfCharsInOperationId\n",
    "    operationId = operationLocation[idLocation:]\n",
    "    while True:\n",
    "    # get_read_result() is asynchronous, need to check when it finishes\n",
    "        result = client.get_read_result(operationId)\n",
    "        if result.status not in ['notStarted', 'running']:\n",
    "            break\n",
    "        time.sleep(1)\n",
    "    if result.status == OperationStatusCodes.succeeded:\n",
    "        for line in result.analyze_result.read_results[0].lines:\n",
    "            if(len(line.text) > 5):\n",
    "                print(line.text)\n",
    "                license_plates.append(line.text)\n",
    "    number_of_plates =  number_of_plates - 1"
   ]
  },
  {
   "cell_type": "code",
   "execution_count": 93,
   "metadata": {},
   "outputs": [
    {
     "data": {
      "text/plain": [
       "['ZM 78528', 'LY 66972', 'BP147398', 'PP 90693', 'EB 74699']"
      ]
     },
     "execution_count": 93,
     "metadata": {},
     "output_type": "execute_result"
    }
   ],
   "source": [
    "license_plates"
   ]
  }
 ],
 "metadata": {
  "interpreter": {
   "hash": "dceef30efdd24655079c042baecd019289b1d01ed935a4b439461b0f7b61a032"
  },
  "kernelspec": {
   "display_name": "Python 3.8.20 ('reflex')",
   "language": "python",
   "name": "python3"
  },
  "language_info": {
   "codemirror_mode": {
    "name": "ipython",
    "version": 3
   },
   "file_extension": ".py",
   "mimetype": "text/x-python",
   "name": "python",
   "nbconvert_exporter": "python",
   "pygments_lexer": "ipython3",
   "version": "3.8.20"
  },
  "orig_nbformat": 4
 },
 "nbformat": 4,
 "nbformat_minor": 2
}
